{
 "cells": [
  {
   "cell_type": "code",
   "execution_count": 3,
   "metadata": {},
   "outputs": [
    {
     "ename": "SyntaxError",
     "evalue": "invalid syntax (<ipython-input-3-8fb83eade742>, line 13)",
     "output_type": "error",
     "traceback": [
      "\u001b[0;36m  File \u001b[0;32m\"<ipython-input-3-8fb83eade742>\"\u001b[0;36m, line \u001b[0;32m13\u001b[0m\n\u001b[0;31m    X_mean = np.mean(X) Y_mean = np.mean(Y)\u001b[0m\n\u001b[0m                        ^\u001b[0m\n\u001b[0;31mSyntaxError\u001b[0m\u001b[0;31m:\u001b[0m invalid syntax\n"
     ]
    }
   ],
   "source": [
    "# Making imports\n",
    "import pandas as pd\n",
    "import numpy as np\n",
    "import matplotlib.pyplot as plt\n",
    "plt.rcParams['figure.figsize'] = (12.0, 9.0)\n",
    "# Preprocessing Input data\n",
    "data = pd.read_csv('salary_data.csv')\n",
    "X = data.iloc[:, 0] \n",
    "Y = data.iloc[:, 1]\n",
    "plt.scatter(X, Y)\n",
    "plt.show()\n",
    "# Building the model\n",
    "X_mean = np.mean(X) Y_mean = np.mean(Y)\n",
    "num = 0 den = 0\n",
    "for i in range(len(X)):\n",
    "num += (X[i] - X_mean)*(Y[i] - Y_mean)\n",
    "den += (X[i] - X_mean)**2\n",
    "m = num / den\n",
    "c = Y_mean - m*X_mean\n",
    " # Making predictions\n",
    " Y_pred = m*X + c\n",
    " # actual\n",
    " plt.plot([min(X), max(X)], [min(Y_pred), max(Y_pred)],\n",
    " color='red')\n",
    " # predicted"
   ]
  },
  {
   "cell_type": "code",
   "execution_count": null,
   "metadata": {},
   "outputs": [],
   "source": []
  }
 ],
 "metadata": {
  "kernelspec": {
   "display_name": "Python 3",
   "language": "python",
   "name": "python3"
  },
  "language_info": {
   "codemirror_mode": {
    "name": "ipython",
    "version": 3
   },
   "file_extension": ".py",
   "mimetype": "text/x-python",
   "name": "python",
   "nbconvert_exporter": "python",
   "pygments_lexer": "ipython3",
   "version": "3.8.3"
  }
 },
 "nbformat": 4,
 "nbformat_minor": 4
}
